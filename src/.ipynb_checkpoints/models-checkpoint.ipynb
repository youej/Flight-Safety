{
 "cells": [
  {
   "cell_type": "code",
   "execution_count": 3,
   "id": "d9242a83-574c-4689-b3b2-e642f8f73485",
   "metadata": {},
   "outputs": [],
   "source": [
    "from keras.models import Sequential\n",
    "from keras.layers import GRU, Dense, TimeDistributed, Lambda, Flatten, Dropout\n",
    "from keras.optimizers import Adam\n",
    "import keras.backend as K\n",
    "from keras.regularizers import l2"
   ]
  },
  {
   "cell_type": "code",
   "execution_count": 5,
   "id": "f2d2ec2a-2f99-4e6b-a15b-acaf58537c21",
   "metadata": {},
   "outputs": [],
   "source": [
    "class BaseGRU:\n",
    "    def __init__(self, input_shape, learning_rate=0.002, dropout=0.1, recurrent_dropout=0.1, kernel_regularizer=l2(0.01), recurrent_regularizer=l2(0.01)):\n",
    "        self.input_shape = input_shape\n",
    "        self.learning_rate = learning_rate\n",
    "        self.dropout = dropout\n",
    "        self.recurrent_dropout = recurrent_dropout\n",
    "        self.kernel_regularizer = kernel_regularizer\n",
    "        self.recurrent_regularizer = recurrent_regularizer\n",
    "        self.model = self.create_model()\n",
    "\n",
    "    def create_model(self):\n",
    "        model = Sequential()\n",
    "        model.add(GRU(20, dropout=self.dropout, recurrent_dropout=self.recurrent_dropout, return_sequences=True, input_shape=self.input_shape, \n",
    "                      kernel_regularizer=self.kernel_regularizer, recurrent_regularizer=self.recurrent_regularizer))\n",
    "        model.add(TimeDistributed(Dense(500, activation='tanh', kernel_regularizer=self.kernel_regularizer)))\n",
    "        model.add(TimeDistributed(Dense(1, activation='sigmoid', kernel_regularizer=self.kernel_regularizer)))\n",
    "        model.add(Flatten())\n",
    "\n",
    "        # Custom MIL aggregation layer using max functions\n",
    "        def mil_aggregation(x):\n",
    "            return K.max(x, axis=1, keepdims=True)\n",
    "\n",
    "        model.add(Lambda(mil_aggregation))\n",
    "        model.compile(optimizer=Adam(learning_rate=self.learning_rate), loss='binary_crossentropy', metrics=['accuracy'])\n",
    "        return model\n",
    "\n",
    "    def summary(self):\n",
    "        return self.model.summary()\n",
    "\n",
    "    def fit(self, x, y, epochs=10, batch_size=32, validation_data=None):\n",
    "        return self.model.fit(x, y, epochs=epochs, batch_size=batch_size, validation_data=validation_data)\n",
    "\n",
    "    def evaluate(self, x, y):\n",
    "        return self.model.evaluate(x, y)\n",
    "\n",
    "    def predict(self, x):\n",
    "        return self.model.predict(x)"
   ]
  },
  {
   "cell_type": "code",
   "execution_count": null,
   "id": "0994d05e-7301-4330-94dc-19390ea8ce8a",
   "metadata": {},
   "outputs": [],
   "source": []
  }
 ],
 "metadata": {
  "kernelspec": {
   "display_name": "Python 3 (ipykernel)",
   "language": "python",
   "name": "python3"
  },
  "language_info": {
   "codemirror_mode": {
    "name": "ipython",
    "version": 3
   },
   "file_extension": ".py",
   "mimetype": "text/x-python",
   "name": "python",
   "nbconvert_exporter": "python",
   "pygments_lexer": "ipython3",
   "version": "3.8.18"
  }
 },
 "nbformat": 4,
 "nbformat_minor": 5
}
