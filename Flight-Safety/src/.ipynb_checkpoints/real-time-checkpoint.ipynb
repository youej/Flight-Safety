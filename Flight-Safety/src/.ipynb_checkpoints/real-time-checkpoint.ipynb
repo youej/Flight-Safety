{
 "cells": [
  {
   "cell_type": "code",
   "execution_count": 20,
   "id": "8fc95627-bc2d-4e77-b910-95ff67af0bdb",
   "metadata": {},
   "outputs": [],
   "source": [
    "import import_ipynb\n",
    "from load_process_data import load_data, preprocess_data, truncate_pad_data, shuffle_data\n",
    "from models import BaseGRU, MultiHeadCnnRnn\n",
    "from keras.regularizers import l2\n",
    "from model_eval import cross_validate\n",
    "from visualize import visualize_accuracies\n",
    "import os\n"
   ]
  },
  {
   "cell_type": "code",
   "execution_count": 21,
   "id": "ae309601-397c-4b7f-b2e6-6477724441dd",
   "metadata": {},
   "outputs": [],
   "source": [
    "# Define hyperparameters\n",
    "\n",
    "input_shape = (81, 23)  # 81 timesteps with 23 features\n",
    "num_folds = 5  # Cross-validation\n",
    "epochs = 10\n",
    "percentage_map = {\n",
    "    (0, 25): 0.25,   # 25% of data with 0-25% of the original length\n",
    "    (25, 50): 0.25,  # 25% of data with 25-50% of the original length\n",
    "    (50, 75): 0.25,  # 25% of data with 50-75% of the original length\n",
    "    (75, 100): 0.25  # 25% of data with 75-100% of the original length\n",
    "}\n",
    "test_splits = {(49, 50): 1}"
   ]
  },
  {
   "cell_type": "code",
   "execution_count": 22,
   "id": "3e86d36a-f93a-4310-b804-55ee96980e8e",
   "metadata": {},
   "outputs": [
    {
     "name": "stdout",
     "output_type": "stream",
     "text": [
      "Loading data ...\n",
      "Data shapes: \n",
      "train_x_list: (5,)\n",
      "training data within each fold: (16063, 81, 25)\n",
      "train_y_list: (5,)\n",
      "training label within each fold: (16063,)\n",
      "Preprocessing data ...\n"
     ]
    }
   ],
   "source": [
    "# Loading data \n",
    "\n",
    "current_directory = os.getcwd()\n",
    "parent_directory = os.path.dirname(current_directory)\n",
    "data_path = os.path.join(parent_directory, 'data/')\n",
    "train_y_list, test_y_list, train_X_list, test_X_list = load_data(data_path)\n",
    "\n",
    "# Preprocessing data (reshape + standardization)\n",
    "\n",
    "train_x_list_filtered, test_x_list_filtered = preprocess_data(train_X_list, test_X_list)"
   ]
  },
  {
   "cell_type": "code",
   "execution_count": 24,
   "id": "7605a73e-8bae-4214-946d-bf85eb3c5583",
   "metadata": {},
   "outputs": [
    {
     "ename": "ValueError",
     "evalue": "low >= high",
     "output_type": "error",
     "traceback": [
      "\u001b[0;31m---------------------------------------------------------------------------\u001b[0m",
      "\u001b[0;31mValueError\u001b[0m                                Traceback (most recent call last)",
      "Cell \u001b[0;32mIn[24], line 15\u001b[0m\n\u001b[1;32m     12\u001b[0m     train_y_list_random\u001b[38;5;241m.\u001b[39mappend(train_y_list_shuffled)\n\u001b[1;32m     14\u001b[0m \u001b[38;5;28;01mfor\u001b[39;00m i, fold \u001b[38;5;129;01min\u001b[39;00m \u001b[38;5;28menumerate\u001b[39m(test_x_list_filtered):\n\u001b[0;32m---> 15\u001b[0m     test_x_list_truncated \u001b[38;5;241m=\u001b[39m \u001b[43mtruncate_pad_data\u001b[49m\u001b[43m(\u001b[49m\u001b[43mfold\u001b[49m\u001b[43m,\u001b[49m\u001b[43m \u001b[49m\u001b[43mtest_splits\u001b[49m\u001b[43m,\u001b[49m\u001b[43m \u001b[49m\u001b[43minput_shape\u001b[49m\u001b[43m[\u001b[49m\u001b[38;5;241;43m0\u001b[39;49m\u001b[43m]\u001b[49m\u001b[43m)\u001b[49m\n\u001b[1;32m     16\u001b[0m     test_x_list_shuffled, test_y_list_shuffled \u001b[38;5;241m=\u001b[39m shuffle_data(test_x_list_truncated, test_y_list[i])\n\u001b[1;32m     17\u001b[0m     test_x_list_random\u001b[38;5;241m.\u001b[39mappend(test_x_list_shuffled)\n",
      "File \u001b[0;32m<string>:29\u001b[0m, in \u001b[0;36mtruncate_pad_data\u001b[0;34m(data, percentage_map, original_length)\u001b[0m\n",
      "File \u001b[0;32mmtrand.pyx:748\u001b[0m, in \u001b[0;36mnumpy.random.mtrand.RandomState.randint\u001b[0;34m()\u001b[0m\n",
      "File \u001b[0;32m_bounded_integers.pyx:1247\u001b[0m, in \u001b[0;36mnumpy.random._bounded_integers._rand_int64\u001b[0;34m()\u001b[0m\n",
      "\u001b[0;31mValueError\u001b[0m: low >= high"
     ]
    }
   ],
   "source": [
    "# Reshaping time series train / test data shape for real-time forecasting\n",
    "\n",
    "train_x_list_random = []\n",
    "train_y_list_random = []\n",
    "test_x_list_random = []\n",
    "test_y_list_random = []\n",
    "\n",
    "for i, fold in enumerate(train_x_list_filtered):\n",
    "    train_x_list_truncated = truncate_pad_data(fold, percentage_map, input_shape[0])\n",
    "    train_x_list_shuffled, train_y_list_shuffled = shuffle_data(train_x_list_truncated, train_y_list[i])\n",
    "    train_x_list_random.append(train_x_list_shuffled)\n",
    "    train_y_list_random.append(train_y_list_shuffled)\n",
    "    \n",
    "for i, fold in enumerate(test_x_list_filtered):\n",
    "    test_x_list_truncated = truncate_pad_data(fold, test_splits, input_shape[0])\n",
    "    test_x_list_shuffled, test_y_list_shuffled = shuffle_data(test_x_list_truncated, test_y_list[i])\n",
    "    test_x_list_random.append(test_x_list_shuffled)\n",
    "    test_y_list_random.append(test_y_list_shuffled)\n",
    "    \n",
    "print(f\"Fold shape: {train_x_list_random[0].shape}\")\n"
   ]
  },
  {
   "cell_type": "code",
   "execution_count": null,
   "id": "2abc2aa9-38ac-4f3a-82f6-0792d068f656",
   "metadata": {},
   "outputs": [],
   "source": []
  }
 ],
 "metadata": {
  "kernelspec": {
   "display_name": "Python 3 (ipykernel)",
   "language": "python",
   "name": "python3"
  },
  "language_info": {
   "codemirror_mode": {
    "name": "ipython",
    "version": 3
   },
   "file_extension": ".py",
   "mimetype": "text/x-python",
   "name": "python",
   "nbconvert_exporter": "python",
   "pygments_lexer": "ipython3",
   "version": "3.8.18"
  }
 },
 "nbformat": 4,
 "nbformat_minor": 5
}
