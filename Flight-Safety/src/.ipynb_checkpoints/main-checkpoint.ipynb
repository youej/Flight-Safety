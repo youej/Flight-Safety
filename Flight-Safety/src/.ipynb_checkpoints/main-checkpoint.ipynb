{
 "cells": [
  {
   "cell_type": "code",
   "execution_count": 59,
   "id": "b77ede5b-ebaa-4e60-aa84-0ee60596dd03",
   "metadata": {},
   "outputs": [],
   "source": [
    "import import_ipynb\n",
    "from load_process_data import load_data, preprocess_data\n",
    "from models import BaseGRU\n",
    "from keras.regularizers import l2\n",
    "import os\n"
   ]
  },
  {
   "cell_type": "code",
   "execution_count": 60,
   "id": "637d6c15-d211-4d8d-9a50-0486b69ae3b1",
   "metadata": {},
   "outputs": [],
   "source": [
    "# Define hyperparameters\n",
    "\n",
    "input_shape = (81, 23)  # 81 timesteps with 23 features\n",
    "learning_rate = 0.001\n",
    "dropout = 0.2\n",
    "recurrent_dropout = 0.2\n",
    "kernel_regularizer = l2(0.01)  # Regularization strength for kernel\n",
    "recurrent_regularizer = l2(0.01)  # Regularization strength for recurrent connections\n",
    "\n",
    "# Create models with regularization\n",
    "\n",
    "model = BaseGRU(input_shape=input_shape, \n",
    "                learning_rate=learning_rate, \n",
    "                dropout=dropout, \n",
    "                recurrent_dropout=recurrent_dropout,\n",
    "                kernel_regularizer=kernel_regularizer, \n",
    "                recurrent_regularizer=recurrent_regularizer)\n"
   ]
  },
  {
   "cell_type": "code",
   "execution_count": 61,
   "id": "6fc8f64f-bc54-4b56-8925-8439add099db",
   "metadata": {},
   "outputs": [
    {
     "ename": "TypeError",
     "evalue": "preprocess_data() missing 1 required positional argument: 'column_names'",
     "output_type": "error",
     "traceback": [
      "\u001b[0;31m---------------------------------------------------------------------------\u001b[0m",
      "\u001b[0;31mTypeError\u001b[0m                                 Traceback (most recent call last)",
      "Cell \u001b[0;32mIn[61], line 8\u001b[0m\n\u001b[1;32m      4\u001b[0m train_y_list, test_y_list, train_X_list, test_X_list \u001b[38;5;241m=\u001b[39m load_data(data_path)\n\u001b[1;32m      6\u001b[0m \u001b[38;5;66;03m# Preprocessing data (reshape + standardization)\u001b[39;00m\n\u001b[0;32m----> 8\u001b[0m train_x_list_filtered, test_x_list_filtered \u001b[38;5;241m=\u001b[39m \u001b[43mpreprocess_data\u001b[49m\u001b[43m(\u001b[49m\u001b[43mtrain_X_list\u001b[49m\u001b[43m,\u001b[49m\u001b[43m \u001b[49m\u001b[43mtest_X_list\u001b[49m\u001b[43m)\u001b[49m\n",
      "\u001b[0;31mTypeError\u001b[0m: preprocess_data() missing 1 required positional argument: 'column_names'"
     ]
    }
   ],
   "source": [
    "# Loading data \n",
    "\n",
    "data_path = '/Users/admin/Documents/Flight-Safety/Flight-Safety/data/'\n",
    "train_y_list, test_y_list, train_X_list, test_X_list = load_data(data_path)\n",
    "\n",
    "# Preprocessing data (reshape + standardization)\n",
    "\n",
    "train_x_list_filtered, test_x_list_filtered = preprocess_data(train_X_list, test_X_list)\n",
    "    "
   ]
  },
  {
   "cell_type": "code",
   "execution_count": 58,
   "id": "3939953d-e84b-411a-86d1-c029b63cc377",
   "metadata": {},
   "outputs": [
    {
     "name": "stdout",
     "output_type": "stream",
     "text": [
      "/Users/admin/Documents/Flight-Safety/Flight-Safety/src\n"
     ]
    }
   ],
   "source": [
    "print(os.getcwd())"
   ]
  },
  {
   "cell_type": "code",
   "execution_count": null,
   "id": "40661e53-9465-45e5-8ba6-04d40779f2b5",
   "metadata": {},
   "outputs": [],
   "source": []
  }
 ],
 "metadata": {
  "kernelspec": {
   "display_name": "Python 3 (ipykernel)",
   "language": "python",
   "name": "python3"
  },
  "language_info": {
   "codemirror_mode": {
    "name": "ipython",
    "version": 3
   },
   "file_extension": ".py",
   "mimetype": "text/x-python",
   "name": "python",
   "nbconvert_exporter": "python",
   "pygments_lexer": "ipython3",
   "version": "3.8.18"
  }
 },
 "nbformat": 4,
 "nbformat_minor": 5
}
