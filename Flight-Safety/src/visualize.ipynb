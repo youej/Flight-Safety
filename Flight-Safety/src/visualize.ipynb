{
 "cells": [
  {
   "cell_type": "code",
   "execution_count": 1,
   "id": "cbb1c068-3945-4822-9051-924a649c9ea1",
   "metadata": {},
   "outputs": [
    {
     "name": "stdout",
     "output_type": "stream",
     "text": [
      "importing Jupyter notebook from models.ipynb\n"
     ]
    },
    {
     "name": "stderr",
     "output_type": "stream",
     "text": [
      "2024-05-17 19:05:45.083012: I tensorflow/core/platform/cpu_feature_guard.cc:182] This TensorFlow binary is optimized to use available CPU instructions in performance-critical operations.\n",
      "To enable the following instructions: SSE4.1 SSE4.2, in other operations, rebuild TensorFlow with the appropriate compiler flags.\n"
     ]
    }
   ],
   "source": [
    "import import_ipynb\n",
    "import matplotlib.pyplot as plt\n",
    "from models import BaseGRU "
   ]
  },
  {
   "cell_type": "code",
   "execution_count": 3,
   "id": "c7e47a75-a1f8-4f11-9976-16664cc82723",
   "metadata": {},
   "outputs": [],
   "source": [
    "def plot_results(train_accuracies, test_accuracies, train_losses, test_losses, num_folds, model):\n",
    "    # Assuming each sublist in train_accuracies and test_accuracies has the same length\n",
    "    epochs = range(1, len(train_accuracies[0]) + 1)\n",
    "    \n",
    "    # Set up the plotting area\n",
    "    fig, ax = plt.subplots(2, 2, figsize=(14, 10))  # 2x2 plot grid\n",
    "\n",
    "    # Check if the model is an instance of BaseGRU\n",
    "    if isinstance(model, BaseGRU):\n",
    "        fig.suptitle('Cross-Validation Results for BaseGRU Model', fontsize=16)\n",
    "\n",
    "    # Plot training accuracies\n",
    "    for i in range(num_folds):\n",
    "        ax[0, 0].plot(epochs, train_accuracies[i], label=f'Train Fold {i+1}')\n",
    "    ax[0, 0].set_title('Training Accuracies')\n",
    "    ax[0, 0].set_xlabel('Epoch')\n",
    "    ax[0, 0].set_ylabel('Accuracy')\n",
    "    ax[0, 0].legend(loc='lower right')\n",
    "\n",
    "    # Plot testing accuracies\n",
    "    for i in range(num_folds):\n",
    "        ax[0, 1].plot(epochs, test_accuracies[i], label=f'Test Fold {i+1}', linestyle='--')\n",
    "    ax[0, 1].set_title('Testing Accuracies')\n",
    "    ax[0, 1].set_xlabel('Epoch')\n",
    "    ax[0, 1].set_ylabel('Accuracy')\n",
    "    ax[0, 1].legend(loc='lower right')\n",
    "\n",
    "    # Plot training losses\n",
    "    for i in range(num_folds):\n",
    "        ax[1, 0].plot(epochs, train_losses[i], label=f'Train Fold {i+1}')\n",
    "    ax[1, 0].set_title('Training Losses')\n",
    "    ax[1, 0].set_xlabel('Epoch')\n",
    "    ax[1, 0].set_ylabel('Loss')\n",
    "    ax[1, 0].legend(loc='upper right')\n",
    "\n",
    "    # Plot testing losses\n",
    "    for i in range(num_folds):\n",
    "        ax[1, 1].plot(epochs, test_losses[i], label=f'Test Fold {i+1}', linestyle='--')\n",
    "    ax[1, 1].set_title('Testing Losses')\n",
    "    ax[1, 1].set_xlabel('Epoch')\n",
    "    ax[1, 1].set_ylabel('Loss')\n",
    "    ax[1, 1].legend(loc='upper right')\n",
    "\n",
    "    # Improve layout and display the plot\n",
    "    plt.tight_layout(rect=[0, 0.03, 1, 0.95])  # Adjust the layout to make room for the title\n",
    "    plt.show()"
   ]
  },
  {
   "cell_type": "code",
   "execution_count": null,
   "id": "94e1f982-0bf7-46b2-abac-3c5eeb736620",
   "metadata": {},
   "outputs": [],
   "source": []
  }
 ],
 "metadata": {
  "kernelspec": {
   "display_name": "Python 3 (ipykernel)",
   "language": "python",
   "name": "python3"
  },
  "language_info": {
   "codemirror_mode": {
    "name": "ipython",
    "version": 3
   },
   "file_extension": ".py",
   "mimetype": "text/x-python",
   "name": "python",
   "nbconvert_exporter": "python",
   "pygments_lexer": "ipython3",
   "version": "3.8.18"
  }
 },
 "nbformat": 4,
 "nbformat_minor": 5
}
