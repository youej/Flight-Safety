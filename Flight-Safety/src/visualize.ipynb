{
 "cells": [
  {
   "cell_type": "code",
   "execution_count": 1,
   "id": "cbb1c068-3945-4822-9051-924a649c9ea1",
   "metadata": {},
   "outputs": [
    {
     "name": "stdout",
     "output_type": "stream",
     "text": [
      "importing Jupyter notebook from models.ipynb\n"
     ]
    },
    {
     "name": "stderr",
     "output_type": "stream",
     "text": [
      "2024-05-27 21:16:55.540261: I tensorflow/core/platform/cpu_feature_guard.cc:182] This TensorFlow binary is optimized to use available CPU instructions in performance-critical operations.\n",
      "To enable the following instructions: SSE4.1 SSE4.2, in other operations, rebuild TensorFlow with the appropriate compiler flags.\n"
     ]
    }
   ],
   "source": [
    "import import_ipynb\n",
    "import matplotlib.pyplot as plt\n",
    "from models import BaseGRU, MultiHeadCnnRnn"
   ]
  },
  {
   "cell_type": "code",
   "execution_count": 2,
   "id": "c7e47a75-a1f8-4f11-9976-16664cc82723",
   "metadata": {},
   "outputs": [],
   "source": [
    "import matplotlib.pyplot as plt\n",
    "\n",
    "def visualize_accuracies(model, train_accuracies, test_accuracies, epochs):\n",
    "    \"\"\"\n",
    "    Visualize training and validation accuracies for each fold, with matching colors for each fold's\n",
    "    training and validation lines. The training line is solid and the validation line is dashed.\n",
    "\n",
    "    Args:\n",
    "    model (object): The model instance being used.\n",
    "    train_accuracies (list of lists): A list where each sublist contains the training accuracies for each epoch of a fold.\n",
    "    test_accuracies (list of lists): A list where each sublist contains the validation accuracies for each epoch of a fold.\n",
    "    epochs (int): The number of epochs the model was trained for.\n",
    "\n",
    "    Returns:\n",
    "    None\n",
    "    \"\"\"\n",
    "    # Define a list of five colors to use for the plots\n",
    "    colors = ['b', 'g', 'r', 'c', 'm']  # blue, green, red, cyan, magenta\n",
    "    \n",
    "    # Determine the model type for the plot title\n",
    "    if isinstance(model, BaseGRU):\n",
    "        model_type = \"Base GRU\"\n",
    "    elif isinstance(model, MultiHeadCnnRnn):\n",
    "        model_type = \"Multi-head CNN-RNN\"\n",
    "    else:\n",
    "        model_type = \"Model\"  # Default title if model type is not recognized\n",
    "\n",
    "    epoch_range = range(1, epochs + 1)\n",
    "    plt.figure(figsize=(12, 8))\n",
    "\n",
    "    for i, (train_acc, test_acc) in enumerate(zip(train_accuracies, test_accuracies)):\n",
    "        color = colors[i % len(colors)]  # Cycle through colors list, just in case\n",
    "        plt.plot(epoch_range, train_acc, label=f'Fold {i+1} Training', color=color, linestyle='-')\n",
    "        plt.plot(epoch_range, test_acc, label=f'Fold {i+1} Validation', color=color, linestyle='--')\n",
    "\n",
    "    plt.title(f'{model_type} Training and Validation Accuracy per Epoch for Each Fold')\n",
    "    plt.xlabel('Epoch')\n",
    "    plt.ylabel('Accuracy')\n",
    "    plt.legend()\n",
    "    plt.grid(True)\n",
    "    plt.show()\n"
   ]
  },
  {
   "cell_type": "code",
   "execution_count": null,
   "id": "94e1f982-0bf7-46b2-abac-3c5eeb736620",
   "metadata": {},
   "outputs": [],
   "source": []
  }
 ],
 "metadata": {
  "kernelspec": {
   "display_name": "Python 3 (ipykernel)",
   "language": "python",
   "name": "python3"
  },
  "language_info": {
   "codemirror_mode": {
    "name": "ipython",
    "version": 3
   },
   "file_extension": ".py",
   "mimetype": "text/x-python",
   "name": "python",
   "nbconvert_exporter": "python",
   "pygments_lexer": "ipython3",
   "version": "3.8.18"
  }
 },
 "nbformat": 4,
 "nbformat_minor": 5
}
