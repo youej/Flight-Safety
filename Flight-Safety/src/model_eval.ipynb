{
 "cells": [
  {
   "cell_type": "code",
   "execution_count": 2,
   "id": "d5ceed48-d26d-4f9a-a104-2698b2abec75",
   "metadata": {},
   "outputs": [],
   "source": [
    "import import_ipynb\n",
    "import numpy as np\n",
    "from models import BaseGRU\n"
   ]
  },
  {
   "cell_type": "code",
   "execution_count": 3,
   "id": "fed03aab-0a7f-47ec-9130-b2bd1daec4da",
   "metadata": {},
   "outputs": [],
   "source": [
    "def cross_validate(model, num_folds, train_x_list, train_y_list, test_x_list, test_y_list, epochs=10):\n",
    "    train_accuracies = []\n",
    "    test_accuracies = []\n",
    "    train_losses = []\n",
    "    test_losses = []\n",
    "\n",
    "    if isinstance(model, BaseGRU):\n",
    "        print(\"Testing on Base GRU class: \")\n",
    "    \n",
    "    for i in range(num_folds):\n",
    "        print(f\"Training on fold {i+1}/{num_folds}\")\n",
    "        \n",
    "        # Extract the training and test data for this fold\n",
    "        train_X = train_x_list[i]\n",
    "        train_y = train_y_list[i]\n",
    "        test_X = test_x_list[i]\n",
    "        test_y = test_y_list[i]\n",
    "        \n",
    "        # Fit the model\n",
    "        history = model.fit(train_X, train_y, epochs=epochs, validation_data=(test_X, test_y))\n",
    "        \n",
    "        # Storing the accuracy and loss from the last epoch for each fold\n",
    "        train_acc = history.history['accuracy'][-1]\n",
    "        test_acc = history.history['val_accuracy'][-1]\n",
    "        train_loss = history.history['loss'][-1]\n",
    "        test_loss = history.history['val_loss'][-1]\n",
    "\n",
    "        train_accuracies.append(train_acc)\n",
    "        test_accuracies.append(test_acc)\n",
    "        train_losses.append(train_loss)\n",
    "        test_losses.append(test_loss)\n",
    "\n",
    "    # Calculate the average accuracies and losses across all folds\n",
    "    average_train_accuracy = np.mean(train_accuracies)\n",
    "    average_test_accuracy = np.mean(test_accuracies)\n",
    "    average_train_loss = np.mean(train_losses)\n",
    "    average_test_loss = np.mean(test_losses)\n",
    "\n",
    "    print(f\"Average training accuracy: {average_train_accuracy:.4f}\")\n",
    "    print(f\"Average testing accuracy: {average_test_accuracy:.4f}\")\n",
    "    print(f\"Average training loss: {average_train_loss:.4f}\")\n",
    "    print(f\"Average testing loss: {average_test_loss:.4f}\")\n",
    "\n",
    "    return train_accuracies, test_accuracies, train_losses, test_losses"
   ]
  },
  {
   "cell_type": "code",
   "execution_count": null,
   "id": "a620f309-f0d5-42cd-90ff-8cf156cf593e",
   "metadata": {},
   "outputs": [],
   "source": []
  }
 ],
 "metadata": {
  "kernelspec": {
   "display_name": "Python 3 (ipykernel)",
   "language": "python",
   "name": "python3"
  },
  "language_info": {
   "codemirror_mode": {
    "name": "ipython",
    "version": 3
   },
   "file_extension": ".py",
   "mimetype": "text/x-python",
   "name": "python",
   "nbconvert_exporter": "python",
   "pygments_lexer": "ipython3",
   "version": "3.8.18"
  }
 },
 "nbformat": 4,
 "nbformat_minor": 5
}
